{
 "cells": [
  {
   "cell_type": "code",
   "execution_count": 31,
   "id": "eabe44c8",
   "metadata": {},
   "outputs": [],
   "source": [
    "#  Bank Account \n",
    "\n",
    "# Define a class\n",
    "class Account:\n",
    "  # constructor \n",
    "  def __init__(self, owner, balance, account_type, gender):\n",
    "    self.owner = owner\n",
    "    self.balance = balance\n",
    "    self.account_type = account_type\n",
    "    self.gender = gender\n",
    "    print(f\"Dear, ✅ Your account is created successfully: Account Details\\nAccount holder Name: {owner}\\nBalance: {balance}\\nAccount Type: {account_type}\\nGender: {gender}\")\n",
    "\n",
    "  \n",
    "  def deposit(self, amount):\n",
    "     self.balance = self.balance + amount\n",
    "     print(f\"Rs. {amount} in  Your : {self.owner} Account. Your new balance is Rs. {self.balance}\")\n",
    "  \n",
    "  def withdraw(self, amount):\n",
    "     self.balance = self.balance - amount\n",
    "     print(f\"Rs. {amount} is withdraw from your {self.owner} Account. Your new balance is {self.balance} \")\n",
    "    \n",
    "  def check_balance(self):\n",
    "     print(f\" Your balance is Rs. {self.balance} \") "
   ]
  },
  {
   "cell_type": "code",
   "execution_count": 42,
   "id": "c54ba9f3",
   "metadata": {},
   "outputs": [
    {
     "name": "stdout",
     "output_type": "stream",
     "text": [
      "Dear, ✅ Your account is created successfully: Account Details\n",
      "Account holder Name: Ali\n",
      "Balance: 1000\n",
      "Account Type: Individual\n",
      "Gender: male\n",
      "------------------------------------------------------\n",
      "Rs. 500 is withdraw from your Ali Account. Your new balance is 500 \n"
     ]
    }
   ],
   "source": [
    "#  Creating Objects \n",
    "\n",
    "account1 = Account(\"Ali\", 1000, \"Individual\", \"male\")\n",
    "\n",
    "\n",
    "print(\"------------------------------------------------------\")\n",
    "\n",
    "# Check balancing your account:\n",
    "# account1.check_balance()\n",
    "\n",
    "\n",
    "# Deposit Balance is your account:\n",
    "# account1.deposit(2000)\n",
    "\n",
    "\n",
    "# Withdraw amount from your account:\n",
    "account1.withdraw(500)\n",
    "\n",
    "\n",
    "\n"
   ]
  },
  {
   "cell_type": "code",
   "execution_count": null,
   "id": "f06c25f0",
   "metadata": {},
   "outputs": [],
   "source": [
    "# account2 = Account(\"Babar\", 3000)\n",
    "# account2 = Account(\"Daniyal\", 3000)"
   ]
  }
 ],
 "metadata": {
  "kernelspec": {
   "display_name": "nxb_class",
   "language": "python",
   "name": "python3"
  },
  "language_info": {
   "codemirror_mode": {
    "name": "ipython",
    "version": 3
   },
   "file_extension": ".py",
   "mimetype": "text/x-python",
   "name": "python",
   "nbconvert_exporter": "python",
   "pygments_lexer": "ipython3",
   "version": "3.13.5"
  }
 },
 "nbformat": 4,
 "nbformat_minor": 5
}
