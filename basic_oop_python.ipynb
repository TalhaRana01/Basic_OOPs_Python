{
 "cells": [
  {
   "cell_type": "markdown",
   "id": "d8a2e115",
   "metadata": {},
   "source": [
    "## Core Python | Basic Programming \n",
    "- Data Types - Primitives : int, float, str, bool\n",
    "- Data Structure - Non-Primitives : list, dict, set, tuple\n",
    "- Logic : Expression, if-statement, loop\n",
    "- Organize : Functions or modules "
   ]
  },
  {
   "cell_type": "markdown",
   "id": "05c3311f",
   "metadata": {},
   "source": [
    "## Object Oriented Programming (OOP)\n",
    "- Software Design (Objects & Classes)"
   ]
  },
  {
   "cell_type": "code",
   "execution_count": null,
   "id": "56facef4",
   "metadata": {},
   "outputs": [],
   "source": [
    "\n",
    "#  Examples  of Car  Data and Behavior \n",
    "\n",
    "#  Car \n",
    "\n",
    "#  Car Data / Attributes / Propertices\n",
    "\n",
    "# --------------------------------------\n",
    "# - model \n",
    "# - color\n",
    "# - register number\n",
    "\n",
    "# -------------------------------------\n",
    "# Car Behavior / Methods / Functionalities\n",
    "\n",
    "#  - start()\n",
    "#  - stop()\n",
    "#  - run()\n",
    "\n"
   ]
  },
  {
   "cell_type": "code",
   "execution_count": null,
   "id": "4c2fca76",
   "metadata": {},
   "outputs": [],
   "source": [
    "#  Example of Book \n",
    "\n",
    "# -------------------\n",
    "\n",
    "# Data :\n",
    "\n",
    "#  - title\n",
    "#  - price\n",
    "#  - status\n",
    "\n",
    "#  -----------------------------\n",
    "# Behavior :\n",
    "#  - issue()\n",
    "#  - return()\n",
    "#  - sale()\n"
   ]
  },
  {
   "cell_type": "code",
   "execution_count": null,
   "id": "2bd2a570",
   "metadata": {},
   "outputs": [],
   "source": [
    "#  Example Bank Account \n",
    "\n",
    "\n",
    "#  Data :\n",
    "\n",
    "# - account owner\n",
    "# - balance\n",
    "# - owner details\n",
    "\n",
    "# Behavior:\n",
    "\n",
    "# - deposit()\n",
    "# - withdraw()\n",
    "# - check_balance()\n",
    "\n",
    "#  account 1 : onwer: \"Talha Rana\", balance : 10000 (object)\n",
    "#  account 2 : onwer: \"Babar\", balance : 20000 (object)\n",
    "#  account 2 : onwer: \"Ali Ahmed\", balance : 250000 (object)"
   ]
  },
  {
   "cell_type": "code",
   "execution_count": null,
   "id": "b06d19fc",
   "metadata": {},
   "outputs": [],
   "source": [
    "#  class vs object \n",
    "\n",
    "#  class :\n",
    "#  class is a template / specification / design / blueprint\n",
    "\n",
    "# ---------------------------------------------------------\n",
    "\n",
    "# Object : \n",
    "#  Object is a instances / examples of class "
   ]
  }
 ],
 "metadata": {
  "kernelspec": {
   "display_name": "nxb_class",
   "language": "python",
   "name": "python3"
  },
  "language_info": {
   "name": "python",
   "version": "3.13.5"
  }
 },
 "nbformat": 4,
 "nbformat_minor": 5
}
