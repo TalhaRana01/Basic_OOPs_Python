{
 "cells": [
  {
   "cell_type": "markdown",
   "id": "d8a2e115",
   "metadata": {},
   "source": [
    "## Core Python | Basic Programming \n",
    "- Data Types - Primitives : int, float, str, bool\n",
    "- Data Structure - Non-Primitives : list, dict, set, tuple\n",
    "- Logic : Expression, if-statement, loop\n",
    "- Organize : Functions or modules "
   ]
  },
  {
   "cell_type": "markdown",
   "id": "05c3311f",
   "metadata": {},
   "source": [
    "## Object Oriented Programming (OOP)"
   ]
  }
 ],
 "metadata": {
  "kernelspec": {
   "display_name": "nxb_class",
   "language": "python",
   "name": "python3"
  },
  "language_info": {
   "name": "python",
   "version": "3.13.5"
  }
 },
 "nbformat": 4,
 "nbformat_minor": 5
}
